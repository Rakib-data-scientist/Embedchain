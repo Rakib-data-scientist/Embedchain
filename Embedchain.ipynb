{
 "cells": [
  {
   "cell_type": "code",
   "execution_count": 1,
   "id": "046e9d3c",
   "metadata": {
    "collapsed": true
   },
   "outputs": [
    {
     "name": "stdout",
     "output_type": "stream",
     "text": [
      "Defaulting to user installation because normal site-packages is not writeable\n",
      "Requirement already satisfied: embedchain in c:\\users\\mjuna\\appdata\\roaming\\python\\python310\\site-packages (0.0.49)\n",
      "Requirement already satisfied: langchain<0.0.238,>=0.0.237 in c:\\users\\mjuna\\appdata\\roaming\\python\\python310\\site-packages (from embedchain) (0.0.237)\n",
      "Requirement already satisfied: flask<3.0.0,>=2.3.3 in c:\\users\\mjuna\\appdata\\roaming\\python\\python310\\site-packages (from embedchain) (2.3.3)\n",
      "Requirement already satisfied: requests<3.0.0,>=2.31.0 in c:\\users\\mjuna\\appdata\\roaming\\python\\python310\\site-packages (from embedchain) (2.31.0)\n",
      "Requirement already satisfied: openai<0.28.0,>=0.27.5 in c:\\users\\mjuna\\appdata\\roaming\\python\\python310\\site-packages (from embedchain) (0.27.10)\n",
      "Requirement already satisfied: chromadb<0.5.0,>=0.4.2 in c:\\users\\mjuna\\appdata\\roaming\\python\\python310\\site-packages (from embedchain) (0.4.8)\n",
      "Requirement already satisfied: youtube-transcript-api<0.7.0,>=0.6.1 in c:\\users\\mjuna\\appdata\\roaming\\python\\python310\\site-packages (from embedchain) (0.6.1)\n",
      "Requirement already satisfied: python-dotenv<2.0.0,>=1.0.0 in c:\\users\\mjuna\\appdata\\roaming\\python\\python310\\site-packages (from embedchain) (1.0.0)\n",
      "Requirement already satisfied: pypdf<4.0.0,>=3.11.0 in c:\\users\\mjuna\\appdata\\roaming\\python\\python310\\site-packages (from embedchain) (3.15.4)\n",
      "Requirement already satisfied: pytube<16.0.0,>=15.0.0 in c:\\users\\mjuna\\appdata\\roaming\\python\\python310\\site-packages (from embedchain) (15.0.0)\n",
      "Requirement already satisfied: twilio<9.0.0,>=8.5.0 in c:\\users\\mjuna\\appdata\\roaming\\python\\python310\\site-packages (from embedchain) (8.7.0)\n",
      "Requirement already satisfied: tiktoken<0.5.0,>=0.4.0 in c:\\users\\mjuna\\appdata\\roaming\\python\\python310\\site-packages (from embedchain) (0.4.0)\n",
      "Requirement already satisfied: beautifulsoup4<5.0.0,>=4.12.2 in c:\\users\\mjuna\\appdata\\roaming\\python\\python310\\site-packages (from embedchain) (4.12.2)\n",
      "Requirement already satisfied: soupsieve>1.2 in c:\\programdata\\anaconda3\\lib\\site-packages (from beautifulsoup4<5.0.0,>=4.12.2->embedchain) (2.3.2.post1)\n",
      "Requirement already satisfied: importlib-resources in c:\\users\\mjuna\\appdata\\roaming\\python\\python310\\site-packages (from chromadb<0.5.0,>=0.4.2->embedchain) (6.0.1)\n",
      "Requirement already satisfied: fastapi<0.100.0,>=0.95.2 in c:\\users\\mjuna\\appdata\\roaming\\python\\python310\\site-packages (from chromadb<0.5.0,>=0.4.2->embedchain) (0.99.1)\n",
      "Requirement already satisfied: onnxruntime>=1.14.1 in c:\\users\\mjuna\\appdata\\roaming\\python\\python310\\site-packages (from chromadb<0.5.0,>=0.4.2->embedchain) (1.15.1)\n",
      "Requirement already satisfied: tqdm>=4.65.0 in c:\\users\\mjuna\\appdata\\roaming\\python\\python310\\site-packages (from chromadb<0.5.0,>=0.4.2->embedchain) (4.66.1)\n",
      "Requirement already satisfied: uvicorn[standard]>=0.18.3 in c:\\users\\mjuna\\appdata\\roaming\\python\\python310\\site-packages (from chromadb<0.5.0,>=0.4.2->embedchain) (0.23.2)\n",
      "Requirement already satisfied: tokenizers>=0.13.2 in c:\\users\\mjuna\\appdata\\roaming\\python\\python310\\site-packages (from chromadb<0.5.0,>=0.4.2->embedchain) (0.13.3)\n",
      "Requirement already satisfied: bcrypt>=4.0.1 in c:\\users\\mjuna\\appdata\\roaming\\python\\python310\\site-packages (from chromadb<0.5.0,>=0.4.2->embedchain) (4.0.1)\n",
      "Requirement already satisfied: posthog>=2.4.0 in c:\\users\\mjuna\\appdata\\roaming\\python\\python310\\site-packages (from chromadb<0.5.0,>=0.4.2->embedchain) (3.0.2)\n",
      "Requirement already satisfied: numpy>=1.21.6 in c:\\programdata\\anaconda3\\lib\\site-packages (from chromadb<0.5.0,>=0.4.2->embedchain) (1.23.5)\n",
      "Requirement already satisfied: overrides>=7.3.1 in c:\\users\\mjuna\\appdata\\roaming\\python\\python310\\site-packages (from chromadb<0.5.0,>=0.4.2->embedchain) (7.4.0)\n",
      "Requirement already satisfied: pulsar-client>=3.1.0 in c:\\users\\mjuna\\appdata\\roaming\\python\\python310\\site-packages (from chromadb<0.5.0,>=0.4.2->embedchain) (3.3.0)\n",
      "Requirement already satisfied: typing-extensions>=4.5.0 in c:\\users\\mjuna\\appdata\\roaming\\python\\python310\\site-packages (from chromadb<0.5.0,>=0.4.2->embedchain) (4.7.1)\n",
      "Requirement already satisfied: chroma-hnswlib==0.7.2 in c:\\users\\mjuna\\appdata\\roaming\\python\\python310\\site-packages (from chromadb<0.5.0,>=0.4.2->embedchain) (0.7.2)\n",
      "Requirement already satisfied: pydantic<2.0,>=1.9 in c:\\users\\mjuna\\appdata\\roaming\\python\\python310\\site-packages (from chromadb<0.5.0,>=0.4.2->embedchain) (1.10.12)\n",
      "Requirement already satisfied: pypika>=0.48.9 in c:\\users\\mjuna\\appdata\\roaming\\python\\python310\\site-packages (from chromadb<0.5.0,>=0.4.2->embedchain) (0.48.9)\n",
      "Requirement already satisfied: click>=8.1.3 in c:\\users\\mjuna\\appdata\\roaming\\python\\python310\\site-packages (from flask<3.0.0,>=2.3.3->embedchain) (8.1.7)\n",
      "Requirement already satisfied: blinker>=1.6.2 in c:\\users\\mjuna\\appdata\\roaming\\python\\python310\\site-packages (from flask<3.0.0,>=2.3.3->embedchain) (1.6.2)\n",
      "Requirement already satisfied: itsdangerous>=2.1.2 in c:\\users\\mjuna\\appdata\\roaming\\python\\python310\\site-packages (from flask<3.0.0,>=2.3.3->embedchain) (2.1.2)\n",
      "Requirement already satisfied: Werkzeug>=2.3.7 in c:\\users\\mjuna\\appdata\\roaming\\python\\python310\\site-packages (from flask<3.0.0,>=2.3.3->embedchain) (2.3.7)\n",
      "Requirement already satisfied: Jinja2>=3.1.2 in c:\\programdata\\anaconda3\\lib\\site-packages (from flask<3.0.0,>=2.3.3->embedchain) (3.1.2)\n",
      "Requirement already satisfied: openapi-schema-pydantic<2.0,>=1.2 in c:\\users\\mjuna\\appdata\\roaming\\python\\python310\\site-packages (from langchain<0.0.238,>=0.0.237->embedchain) (1.2.4)\n",
      "Requirement already satisfied: SQLAlchemy<3,>=1.4 in c:\\programdata\\anaconda3\\lib\\site-packages (from langchain<0.0.238,>=0.0.237->embedchain) (1.4.39)\n",
      "Requirement already satisfied: langsmith<0.0.11,>=0.0.10 in c:\\users\\mjuna\\appdata\\roaming\\python\\python310\\site-packages (from langchain<0.0.238,>=0.0.237->embedchain) (0.0.10)\n",
      "Requirement already satisfied: tenacity<9.0.0,>=8.1.0 in c:\\users\\mjuna\\appdata\\roaming\\python\\python310\\site-packages (from langchain<0.0.238,>=0.0.237->embedchain) (8.2.3)\n",
      "Requirement already satisfied: async-timeout<5.0.0,>=4.0.0 in c:\\users\\mjuna\\appdata\\roaming\\python\\python310\\site-packages (from langchain<0.0.238,>=0.0.237->embedchain) (4.0.3)\n",
      "Requirement already satisfied: dataclasses-json<0.6.0,>=0.5.7 in c:\\users\\mjuna\\appdata\\roaming\\python\\python310\\site-packages (from langchain<0.0.238,>=0.0.237->embedchain) (0.5.14)\n",
      "Requirement already satisfied: numexpr<3.0.0,>=2.8.4 in c:\\programdata\\anaconda3\\lib\\site-packages (from langchain<0.0.238,>=0.0.237->embedchain) (2.8.4)\n",
      "Requirement already satisfied: aiohttp<4.0.0,>=3.8.3 in c:\\users\\mjuna\\appdata\\roaming\\python\\python310\\site-packages (from langchain<0.0.238,>=0.0.237->embedchain) (3.8.5)\n",
      "Requirement already satisfied: PyYAML>=5.4.1 in c:\\programdata\\anaconda3\\lib\\site-packages (from langchain<0.0.238,>=0.0.237->embedchain) (6.0)\n",
      "Requirement already satisfied: idna<4,>=2.5 in c:\\programdata\\anaconda3\\lib\\site-packages (from requests<3.0.0,>=2.31.0->embedchain) (3.4)\n",
      "Requirement already satisfied: urllib3<3,>=1.21.1 in c:\\programdata\\anaconda3\\lib\\site-packages (from requests<3.0.0,>=2.31.0->embedchain) (1.26.14)\n",
      "Requirement already satisfied: certifi>=2017.4.17 in c:\\programdata\\anaconda3\\lib\\site-packages (from requests<3.0.0,>=2.31.0->embedchain) (2022.12.7)\n",
      "Requirement already satisfied: charset-normalizer<4,>=2 in c:\\programdata\\anaconda3\\lib\\site-packages (from requests<3.0.0,>=2.31.0->embedchain) (2.0.4)\n",
      "Requirement already satisfied: regex>=2022.1.18 in c:\\programdata\\anaconda3\\lib\\site-packages (from tiktoken<0.5.0,>=0.4.0->embedchain) (2022.7.9)\n",
      "Requirement already satisfied: aiohttp-retry>=2.8.3 in c:\\users\\mjuna\\appdata\\roaming\\python\\python310\\site-packages (from twilio<9.0.0,>=8.5.0->embedchain) (2.8.3)\n",
      "Requirement already satisfied: pytz in c:\\programdata\\anaconda3\\lib\\site-packages (from twilio<9.0.0,>=8.5.0->embedchain) (2022.7)\n",
      "Requirement already satisfied: PyJWT<3.0.0,>=2.0.0 in c:\\programdata\\anaconda3\\lib\\site-packages (from twilio<9.0.0,>=8.5.0->embedchain) (2.4.0)\n",
      "Requirement already satisfied: yarl<2.0,>=1.0 in c:\\users\\mjuna\\appdata\\roaming\\python\\python310\\site-packages (from aiohttp<4.0.0,>=3.8.3->langchain<0.0.238,>=0.0.237->embedchain) (1.9.2)\n",
      "Requirement already satisfied: attrs>=17.3.0 in c:\\programdata\\anaconda3\\lib\\site-packages (from aiohttp<4.0.0,>=3.8.3->langchain<0.0.238,>=0.0.237->embedchain) (22.1.0)\n",
      "Requirement already satisfied: aiosignal>=1.1.2 in c:\\users\\mjuna\\appdata\\roaming\\python\\python310\\site-packages (from aiohttp<4.0.0,>=3.8.3->langchain<0.0.238,>=0.0.237->embedchain) (1.3.1)\n",
      "Requirement already satisfied: multidict<7.0,>=4.5 in c:\\users\\mjuna\\appdata\\roaming\\python\\python310\\site-packages (from aiohttp<4.0.0,>=3.8.3->langchain<0.0.238,>=0.0.237->embedchain) (6.0.4)\n",
      "Requirement already satisfied: frozenlist>=1.1.1 in c:\\users\\mjuna\\appdata\\roaming\\python\\python310\\site-packages (from aiohttp<4.0.0,>=3.8.3->langchain<0.0.238,>=0.0.237->embedchain) (1.4.0)\n",
      "Requirement already satisfied: colorama in c:\\programdata\\anaconda3\\lib\\site-packages (from click>=8.1.3->flask<3.0.0,>=2.3.3->embedchain) (0.4.6)\n",
      "Requirement already satisfied: marshmallow<4.0.0,>=3.18.0 in c:\\users\\mjuna\\appdata\\roaming\\python\\python310\\site-packages (from dataclasses-json<0.6.0,>=0.5.7->langchain<0.0.238,>=0.0.237->embedchain) (3.20.1)\n",
      "Requirement already satisfied: typing-inspect<1,>=0.4.0 in c:\\users\\mjuna\\appdata\\roaming\\python\\python310\\site-packages (from dataclasses-json<0.6.0,>=0.5.7->langchain<0.0.238,>=0.0.237->embedchain) (0.9.0)\n",
      "Requirement already satisfied: starlette<0.28.0,>=0.27.0 in c:\\users\\mjuna\\appdata\\roaming\\python\\python310\\site-packages (from fastapi<0.100.0,>=0.95.2->chromadb<0.5.0,>=0.4.2->embedchain) (0.27.0)\n",
      "Requirement already satisfied: MarkupSafe>=2.0 in c:\\programdata\\anaconda3\\lib\\site-packages (from Jinja2>=3.1.2->flask<3.0.0,>=2.3.3->embedchain) (2.1.1)\n",
      "Requirement already satisfied: packaging in c:\\programdata\\anaconda3\\lib\\site-packages (from onnxruntime>=1.14.1->chromadb<0.5.0,>=0.4.2->embedchain) (22.0)\n",
      "Requirement already satisfied: coloredlogs in c:\\users\\mjuna\\appdata\\roaming\\python\\python310\\site-packages (from onnxruntime>=1.14.1->chromadb<0.5.0,>=0.4.2->embedchain) (15.0.1)\n",
      "Requirement already satisfied: protobuf in c:\\users\\mjuna\\appdata\\roaming\\python\\python310\\site-packages (from onnxruntime>=1.14.1->chromadb<0.5.0,>=0.4.2->embedchain) (4.24.2)\n",
      "Requirement already satisfied: flatbuffers in c:\\users\\mjuna\\appdata\\roaming\\python\\python310\\site-packages (from onnxruntime>=1.14.1->chromadb<0.5.0,>=0.4.2->embedchain) (23.5.26)\n",
      "Requirement already satisfied: sympy in c:\\programdata\\anaconda3\\lib\\site-packages (from onnxruntime>=1.14.1->chromadb<0.5.0,>=0.4.2->embedchain) (1.11.1)\n",
      "Requirement already satisfied: monotonic>=1.5 in c:\\users\\mjuna\\appdata\\roaming\\python\\python310\\site-packages (from posthog>=2.4.0->chromadb<0.5.0,>=0.4.2->embedchain) (1.6)\n",
      "Requirement already satisfied: six>=1.5 in c:\\programdata\\anaconda3\\lib\\site-packages (from posthog>=2.4.0->chromadb<0.5.0,>=0.4.2->embedchain) (1.16.0)\n",
      "Requirement already satisfied: python-dateutil>2.1 in c:\\programdata\\anaconda3\\lib\\site-packages (from posthog>=2.4.0->chromadb<0.5.0,>=0.4.2->embedchain) (2.8.2)\n",
      "Requirement already satisfied: backoff>=1.10.0 in c:\\users\\mjuna\\appdata\\roaming\\python\\python310\\site-packages (from posthog>=2.4.0->chromadb<0.5.0,>=0.4.2->embedchain) (2.2.1)\n",
      "Requirement already satisfied: greenlet!=0.4.17 in c:\\programdata\\anaconda3\\lib\\site-packages (from SQLAlchemy<3,>=1.4->langchain<0.0.238,>=0.0.237->embedchain) (2.0.1)\n",
      "Requirement already satisfied: h11>=0.8 in c:\\users\\mjuna\\appdata\\roaming\\python\\python310\\site-packages (from uvicorn[standard]>=0.18.3->chromadb<0.5.0,>=0.4.2->embedchain) (0.14.0)\n",
      "Requirement already satisfied: httptools>=0.5.0 in c:\\users\\mjuna\\appdata\\roaming\\python\\python310\\site-packages (from uvicorn[standard]>=0.18.3->chromadb<0.5.0,>=0.4.2->embedchain) (0.6.0)\n",
      "Requirement already satisfied: websockets>=10.4 in c:\\users\\mjuna\\appdata\\roaming\\python\\python310\\site-packages (from uvicorn[standard]>=0.18.3->chromadb<0.5.0,>=0.4.2->embedchain) (11.0.3)\n",
      "Requirement already satisfied: watchfiles>=0.13 in c:\\users\\mjuna\\appdata\\roaming\\python\\python310\\site-packages (from uvicorn[standard]>=0.18.3->chromadb<0.5.0,>=0.4.2->embedchain) (0.20.0)\n",
      "Requirement already satisfied: anyio<5,>=3.4.0 in c:\\programdata\\anaconda3\\lib\\site-packages (from starlette<0.28.0,>=0.27.0->fastapi<0.100.0,>=0.95.2->chromadb<0.5.0,>=0.4.2->embedchain) (3.5.0)\n",
      "Requirement already satisfied: mypy-extensions>=0.3.0 in c:\\programdata\\anaconda3\\lib\\site-packages (from typing-inspect<1,>=0.4.0->dataclasses-json<0.6.0,>=0.5.7->langchain<0.0.238,>=0.0.237->embedchain) (0.4.3)\n",
      "Requirement already satisfied: humanfriendly>=9.1 in c:\\users\\mjuna\\appdata\\roaming\\python\\python310\\site-packages (from coloredlogs->onnxruntime>=1.14.1->chromadb<0.5.0,>=0.4.2->embedchain) (10.0)\n",
      "Requirement already satisfied: mpmath>=0.19 in c:\\programdata\\anaconda3\\lib\\site-packages (from sympy->onnxruntime>=1.14.1->chromadb<0.5.0,>=0.4.2->embedchain) (1.2.1)\n",
      "Requirement already satisfied: sniffio>=1.1 in c:\\programdata\\anaconda3\\lib\\site-packages (from anyio<5,>=3.4.0->starlette<0.28.0,>=0.27.0->fastapi<0.100.0,>=0.95.2->chromadb<0.5.0,>=0.4.2->embedchain) (1.2.0)\n",
      "Requirement already satisfied: pyreadline3 in c:\\users\\mjuna\\appdata\\roaming\\python\\python310\\site-packages (from humanfriendly>=9.1->coloredlogs->onnxruntime>=1.14.1->chromadb<0.5.0,>=0.4.2->embedchain) (3.4.1)\n",
      "Note: you may need to restart the kernel to use updated packages.\n"
     ]
    }
   ],
   "source": [
    "pip install embedchain"
   ]
  },
  {
   "cell_type": "code",
   "execution_count": 1,
   "id": "da4ac4ab",
   "metadata": {},
   "outputs": [
    {
     "name": "stderr",
     "output_type": "stream",
     "text": [
      "2023-09-02 12:54:18,430 [root] [WARNING] Starting from version v0.0.40, Embedchain can automatically detect the data type. So, in the `add` method, the argument order has changed. You no longer need to specify 'web_page' for the `source` argument. So the code snippet will be `.add(\"https://en.wikipedia.org/wiki/MS_Dhoni\", \"web_page\")`\n",
      "2023-09-02 12:54:18,441 [root] [WARNING] Embedchain is swapping the arguments for you. This functionality might be deprecated in the future, so please adjust your code.\n",
      "2023-09-02 12:54:22,245 [root] [WARNING] Starting from version v0.0.40, Embedchain can automatically detect the data type. So, in the `add` method, the argument order has changed. You no longer need to specify 'web_page' for the `source` argument. So the code snippet will be `.add(\"http://www.rhitisports.com/india/ms-dhoni-2/\", \"web_page\")`\n",
      "2023-09-02 12:54:22,245 [root] [WARNING] Embedchain is swapping the arguments for you. This functionality might be deprecated in the future, so please adjust your code.\n"
     ]
    },
    {
     "name": "stdout",
     "output_type": "stream",
     "text": [
      "All data from https://en.wikipedia.org/wiki/MS_Dhoni already exists in the database.\n",
      "All data from http://www.rhitisports.com/india/ms-dhoni-2/ already exists in the database.\n"
     ]
    },
    {
     "data": {
      "text/plain": [
       "'4fec82ecdb980fc186585614d244e8ff'"
      ]
     },
     "execution_count": 1,
     "metadata": {},
     "output_type": "execute_result"
    }
   ],
   "source": [
    "import os\n",
    "\n",
    "from embedchain import App\n",
    "\n",
    "os.environ[\"OPENAI_API_KEY\"] = \"sk-dW6nFUuKY28abQUQgEd7T3BlbkFJ2Pz9ja28HU7l1HTaS\"\n",
    "MS_Dhoni_bot = App()\n",
    "\n",
    "# Embed Online Resources\n",
    "MS_Dhoni_bot.add(\"web_page\",\"https://en.wikipedia.org/wiki/MS_Dhoni\")\n",
    "MS_Dhoni_bot.add(\"web_page\",\"http://www.rhitisports.com/india/ms-dhoni-2/\")\n"
   ]
  },
  {
   "cell_type": "code",
   "execution_count": 2,
   "id": "453dcff3",
   "metadata": {},
   "outputs": [
    {
     "name": "stdout",
     "output_type": "stream",
     "text": [
      "MS Dhoni is known for his leadership, strategy, and ability to make the right decisions on the pitch at the right time. He is also known for his achievements and laurels in cricket, including being the captain of the Indian cricket team and leading them to multiple victories, including the World Cup. Additionally, he is known for his endorsements and being one of India's most sought-after brands.\n"
     ]
    }
   ],
   "source": [
    "response = MS_Dhoni_bot.query(\"what MS Dhoni is known for?\")\n",
    "print(response)"
   ]
  }
 ],
 "metadata": {
  "kernelspec": {
   "display_name": "Python 3 (ipykernel)",
   "language": "python",
   "name": "python3"
  },
  "language_info": {
   "codemirror_mode": {
    "name": "ipython",
    "version": 3
   },
   "file_extension": ".py",
   "mimetype": "text/x-python",
   "name": "python",
   "nbconvert_exporter": "python",
   "pygments_lexer": "ipython3",
   "version": "3.10.9"
  }
 },
 "nbformat": 4,
 "nbformat_minor": 5
}
